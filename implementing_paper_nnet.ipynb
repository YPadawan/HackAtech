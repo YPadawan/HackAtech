{
 "cells": [
  {
   "cell_type": "code",
   "execution_count": 5,
   "id": "f0ef026e",
   "metadata": {},
   "outputs": [],
   "source": [
    "import torch\n",
    "import helper\n",
    "import numpy as np\n",
    "import torch.nn as nn\n",
    "import torch.nn.functional as F\n",
    "import matplotlib.pyplot as plt\n",
    "from torchvision import datasets, transforms"
   ]
  },
  {
   "cell_type": "markdown",
   "id": "529535ae",
   "metadata": {},
   "source": [
    "# Implementing th neural network of the paper pieces by pieces"
   ]
  },
  {
   "cell_type": "markdown",
   "id": "aeadbdfd",
   "metadata": {},
   "source": [
    "## Convolution block"
   ]
  },
  {
   "cell_type": "code",
   "execution_count": 6,
   "id": "031b32e7",
   "metadata": {},
   "outputs": [],
   "source": [
    "class ConvBNReluBlock(nn.Module):\n",
    "    \n",
    "    def __init__(self, in_channels, out_channels, kernel_size, resampling_filter=None, padding=1, upsample=False, downsample=False):\n",
    "        super().__init__()\n",
    "        \n",
    "        ### Convolution layer\n",
    "        \n",
    "        self.block = nn.Sequential(\n",
    "            nn.Conv2d(in_channels=in_channels, \n",
    "                      out_channels=out_channels, \n",
    "                      kernel_size=kernel_size, padding=padding),\n",
    "            nn.BatchNorm2d(out_channels),\n",
    "            nn.ReLU()\n",
    "        )\n",
    "        \n",
    "        self.upsample = upsample\n",
    "        self.downsample = downsample\n",
    "        \n",
    "        self.resampling_filter = resampling_filter\n",
    "        \n",
    "    def forward(self, x):\n",
    "        x = self.block(x)\n",
    "        \n",
    "        if self.downsample:\n",
    "            x = F.dropout2d(x, p=0.05)\n",
    "            x = F.max_pool2d(x, kernel_size=self.resampling_filter)\n",
    "        \n",
    "        if self.upsample:\n",
    "            x = F.interpolate(x, mode='nearest', scale_factor=self.resampling_filter)\n",
    "        \n",
    "        return x"
   ]
  },
  {
   "cell_type": "markdown",
   "id": "194f1340",
   "metadata": {},
   "source": [
    "## Encoder part"
   ]
  },
  {
   "cell_type": "code",
   "execution_count": 7,
   "id": "b52bebb8",
   "metadata": {},
   "outputs": [],
   "source": [
    "class Encoder(nn.Module):\n",
    "    def __init__(self):\n",
    "        super().__init__()\n",
    "        \n",
    "        self.cbe1 = ConvBNReluBlock(1, 32, kernel_size=(3, 2), resampling_filter=(5, 2), downsample=True)\n",
    "        self.cbe2 = ConvBNReluBlock(32, 128, kernel_size=(3, 2), resampling_filter=(4, 2), downsample=True)\n",
    "        self.cbe3 = ConvBNReluBlock(128, 256, kernel_size=(3, 2), resampling_filter=(2, 2), downsample=True)\n",
    "        \n",
    "    def forward(self, x):\n",
    "        x = self.cbe1(x)\n",
    "        x = self.cbe2(x)\n",
    "        x = self.cbe3(x)\n",
    "        \n",
    "        return x"
   ]
  },
  {
   "cell_type": "code",
   "execution_count": 8,
   "id": "3f481489",
   "metadata": {},
   "outputs": [
    {
     "data": {
      "text/plain": [
       "torch.Size([1, 256, 25, 1])"
      ]
     },
     "execution_count": 8,
     "metadata": {},
     "output_type": "execute_result"
    }
   ],
   "source": [
    "Encoder()(torch.zeros((1, 1, 1000, 8))).shape"
   ]
  },
  {
   "cell_type": "markdown",
   "id": "f556e024",
   "metadata": {},
   "source": [
    "# Residual block\n",
    "\n",
    "source: https://blog.paperspace.com/writing-resnet-from-scratch-in-pytorch/"
   ]
  },
  {
   "cell_type": "code",
   "execution_count": 9,
   "id": "100ac519",
   "metadata": {},
   "outputs": [],
   "source": [
    "class ResidualBlock(nn.Module):\n",
    "    def __init__(self, in_channels, stride = 1, downsample = None):\n",
    "        super(ResidualBlock, self).__init__()\n",
    "        \n",
    "        self.convbnrelu1 = ConvBNReluBlock(in_channels, in_channels, kernel_size = 3)\n",
    "        \n",
    "        self.convbnrelu2 = ConvBNReluBlock(in_channels, in_channels, kernel_size = 3)\n",
    "        \n",
    "        self.convbnrelu3 = ConvBNReluBlock(in_channels, in_channels, kernel_size = 3)\n",
    "        \n",
    "    def forward(self, x):\n",
    "        residual = x\n",
    "        \n",
    "        x = self.convbnrelu1(x) \n",
    "        x = self.convbnrelu2(x)\n",
    "        x = self.convbnrelu3(x)\n",
    "        \n",
    "        return x + residual"
   ]
  },
  {
   "cell_type": "code",
   "execution_count": 10,
   "id": "feddcc1b",
   "metadata": {},
   "outputs": [],
   "source": [
    "class ResNet(nn.Module):\n",
    "    def __init__(self, in_channels, num_blocks):\n",
    "        super(ResNet, self).__init__()\n",
    "        self.blocks = [ResidualBlock(in_channels=256) for i in range(num_blocks)]\n",
    "    \n",
    "    def forward(self, x):\n",
    "        for block in self.blocks:\n",
    "            x = block(x)\n",
    "            \n",
    "        return x"
   ]
  },
  {
   "cell_type": "code",
   "execution_count": 11,
   "id": "eaddd006",
   "metadata": {},
   "outputs": [],
   "source": [
    "encoder = Encoder()\n",
    "resnet = ResNet(in_channels=256, num_blocks=5)"
   ]
  },
  {
   "cell_type": "code",
   "execution_count": 12,
   "id": "1483b59f",
   "metadata": {
    "scrolled": true
   },
   "outputs": [
    {
     "data": {
      "text/plain": [
       "torch.Size([1, 256, 25, 1])"
      ]
     },
     "execution_count": 12,
     "metadata": {},
     "output_type": "execute_result"
    }
   ],
   "source": [
    "resnet(encoder(torch.zeros((1, 1, 1000, 8)))).shape"
   ]
  },
  {
   "cell_type": "markdown",
   "id": "c80a23df",
   "metadata": {},
   "source": [
    "## Decoder part"
   ]
  },
  {
   "cell_type": "code",
   "execution_count": 13,
   "id": "d32ec31a",
   "metadata": {},
   "outputs": [],
   "source": [
    "# Add upsample to the decoder, not correct yet\n",
    "class Decoder(nn.Module):\n",
    "    def __init__(self):\n",
    "        super().__init__()\n",
    "        \n",
    "        self.convbnrelu1 = ConvBNReluBlock(256, 128, kernel_size=(3, 2), resampling_filter=(5, 3), padding=1, upsample=True)\n",
    "        self.convbnrelu2 = ConvBNReluBlock(128, 32, kernel_size=(3, 2), resampling_filter=(4, 1), padding=1, upsample=True)\n",
    "        self.convbnrelu3 = ConvBNReluBlock(32, 1, kernel_size=(3, 2), resampling_filter=(2, 2), padding=1, upsample=True)\n",
    "        \n",
    "    def forward(self, x):\n",
    "        x = self.convbnrelu1(x)\n",
    "        x = self.convbnrelu2(x)\n",
    "        x = self.convbnrelu3(x)\n",
    "        \n",
    "        return x"
   ]
  },
  {
   "cell_type": "code",
   "execution_count": 14,
   "id": "1d110dc2",
   "metadata": {},
   "outputs": [],
   "source": [
    "encoder = Encoder()\n",
    "resnet = ResNet(in_channels=256, num_blocks=5)\n",
    "decoder = Decoder()"
   ]
  },
  {
   "cell_type": "code",
   "execution_count": 15,
   "id": "8de8f977",
   "metadata": {},
   "outputs": [
    {
     "data": {
      "text/plain": [
       "torch.Size([2, 1, 1000, 16])"
      ]
     },
     "execution_count": 15,
     "metadata": {},
     "output_type": "execute_result"
    }
   ],
   "source": [
    "decoder(resnet(encoder(torch.zeros((2, 1, 1000, 8))))).shape"
   ]
  },
  {
   "cell_type": "code",
   "execution_count": null,
   "id": "057516a4",
   "metadata": {},
   "outputs": [],
   "source": [
    "class NeuralNetwork(nn.Module):\n",
    "    def __init__(self):\n",
    "        super().__init__()\n",
    "        self.encoder = Encoder()\n",
    "        self.resnet = ResNet(in_channels=256, num_blocks=5)\n",
    "        self.decoder = Decoder()\n",
    "        \n",
    "    def forward(self, x):\n",
    "        x = self.encoder(x)\n",
    "        x = self.resnet(x)\n",
    "        x = self.decoder(x)\n",
    "        return x"
   ]
  },
  {
   "cell_type": "markdown",
   "id": "687d6e64",
   "metadata": {},
   "source": [
    "# Reading data and training"
   ]
  },
  {
   "cell_type": "code",
   "execution_count": 22,
   "id": "ed7e18fd",
   "metadata": {},
   "outputs": [],
   "source": [
    "import pandas as pd\n",
    "df = pd.read_csv(\"./core_angles-core_hand-90s.csv\")\n",
    "data = df.iloc[:, :8].values\n",
    "y = df.iloc[:, 8:].values"
   ]
  },
  {
   "cell_type": "code",
   "execution_count": 23,
   "id": "74963fe8",
   "metadata": {},
   "outputs": [],
   "source": [
    "data_pytorch = torch.from_numpy(data)\n",
    "y_pytorch = torch.from_numpy(y)"
   ]
  },
  {
   "cell_type": "code",
   "execution_count": 24,
   "id": "96ede95f",
   "metadata": {},
   "outputs": [
    {
     "data": {
      "text/plain": [
       "torch.Size([4486, 8])"
      ]
     },
     "execution_count": 24,
     "metadata": {},
     "output_type": "execute_result"
    }
   ],
   "source": [
    "data_pytorch.shape"
   ]
  },
  {
   "cell_type": "code",
   "execution_count": 25,
   "id": "e1280f8a",
   "metadata": {},
   "outputs": [
    {
     "data": {
      "text/plain": [
       "torch.Size([4486, 16])"
      ]
     },
     "execution_count": 25,
     "metadata": {},
     "output_type": "execute_result"
    }
   ],
   "source": [
    "y_pytorch.shape"
   ]
  },
  {
   "cell_type": "code",
   "execution_count": 26,
   "id": "322299ca",
   "metadata": {},
   "outputs": [],
   "source": [
    "# defining loss function\n",
    "loss_fn = torch.nn.MSELoss()"
   ]
  },
  {
   "cell_type": "code",
   "execution_count": 27,
   "id": "aeb02127",
   "metadata": {},
   "outputs": [
    {
     "ename": "NameError",
     "evalue": "name 'model' is not defined",
     "output_type": "error",
     "traceback": [
      "\u001b[0;31m---------------------------------------------------------------------------\u001b[0m",
      "\u001b[0;31mNameError\u001b[0m                                 Traceback (most recent call last)",
      "Input \u001b[0;32mIn [27]\u001b[0m, in \u001b[0;36m<cell line: 2>\u001b[0;34m()\u001b[0m\n\u001b[1;32m      1\u001b[0m \u001b[38;5;66;03m# Optimizers specified in the torch.optim package\u001b[39;00m\n\u001b[0;32m----> 2\u001b[0m optimizer \u001b[38;5;241m=\u001b[39m torch\u001b[38;5;241m.\u001b[39moptim\u001b[38;5;241m.\u001b[39mSGD(\u001b[43mmodel\u001b[49m\u001b[38;5;241m.\u001b[39mparameters(), lr\u001b[38;5;241m=\u001b[39m\u001b[38;5;241m0.001\u001b[39m, momentum\u001b[38;5;241m=\u001b[39m\u001b[38;5;241m0.9\u001b[39m)\n",
      "\u001b[0;31mNameError\u001b[0m: name 'model' is not defined"
     ]
    }
   ],
   "source": [
    "# Optimizers specified in the torch.optim package\n",
    "optimizer = torch.optim.SGD(model.parameters(), lr=0.001, momentum=0.9)"
   ]
  },
  {
   "cell_type": "code",
   "execution_count": null,
   "id": "782f00ae",
   "metadata": {},
   "outputs": [],
   "source": []
  }
 ],
 "metadata": {
  "kernelspec": {
   "display_name": "Python 3 (ipykernel)",
   "language": "python",
   "name": "python3"
  },
  "language_info": {
   "codemirror_mode": {
    "name": "ipython",
    "version": 3
   },
   "file_extension": ".py",
   "mimetype": "text/x-python",
   "name": "python",
   "nbconvert_exporter": "python",
   "pygments_lexer": "ipython3",
   "version": "3.10.6"
  }
 },
 "nbformat": 4,
 "nbformat_minor": 5
}
