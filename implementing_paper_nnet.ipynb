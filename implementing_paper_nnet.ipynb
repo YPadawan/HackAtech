{
 "cells": [
  {
   "cell_type": "code",
   "execution_count": 1,
   "id": "f0ef026e",
   "metadata": {},
   "outputs": [],
   "source": [
    "import torch\n",
    "import helper\n",
    "import numpy as np\n",
    "import torch.nn as nn\n",
    "import torch.nn.functional as F\n",
    "import matplotlib.pyplot as plt\n",
    "from torchvision import datasets, transforms"
   ]
  },
  {
   "cell_type": "code",
   "execution_count": 2,
   "id": "095d1e81",
   "metadata": {},
   "outputs": [],
   "source": [
    "# !pip install helper"
   ]
  },
  {
   "cell_type": "markdown",
   "id": "529535ae",
   "metadata": {},
   "source": [
    "# Implementing th neural network of the paper pieces by pieces"
   ]
  },
  {
   "cell_type": "markdown",
   "id": "aeadbdfd",
   "metadata": {},
   "source": [
    "## Convolution block"
   ]
  },
  {
   "cell_type": "code",
   "execution_count": 3,
   "id": "031b32e7",
   "metadata": {},
   "outputs": [],
   "source": [
    "class ConvolutionBlock(nn.Module):\n",
    "    \n",
    "    def __init__(self, in_channels, out_channels, maxpool_kernel):\n",
    "        super().__init__()\n",
    "        \n",
    "        ### Convolution layer\n",
    "        \n",
    "        self.in_channels = in_channels\n",
    "        self.out_channels = out_channels\n",
    "        self.maxpool_kernel = maxpool_kernel\n",
    "        \n",
    "        self.block = nn.Sequential(\n",
    "            nn.Conv2d(in_channels=self.in_channels, \n",
    "                      out_channels=self.out_channels, \n",
    "                      kernel_size=(3,2), padding=1),\n",
    "            nn.BatchNorm2d(self.out_channels),\n",
    "            nn.ReLU(),\n",
    "            nn.MaxPool2d(self.maxpool_kernel)\n",
    "#             nn.Conv2d(in_channels=self.out_channels, \n",
    "#                       out_channels=self.out_channels, \n",
    "#                       kernel_size=3, stride=2, padding=1)\n",
    "        )\n",
    "        \n",
    "    def forward(self, x):\n",
    "        return self.block(x)"
   ]
  },
  {
   "cell_type": "code",
   "execution_count": 4,
   "id": "314330ec",
   "metadata": {},
   "outputs": [
    {
     "data": {
      "text/plain": [
       "ConvolutionBlock(\n",
       "  (block): Sequential(\n",
       "    (0): Conv2d(8, 32, kernel_size=(3, 2), stride=(1, 1), padding=(1, 1))\n",
       "    (1): BatchNorm2d(32, eps=1e-05, momentum=0.1, affine=True, track_running_stats=True)\n",
       "    (2): ReLU()\n",
       "    (3): MaxPool2d(kernel_size=(3, 2), stride=(3, 2), padding=0, dilation=1, ceil_mode=False)\n",
       "  )\n",
       ")"
      ]
     },
     "execution_count": 4,
     "metadata": {},
     "output_type": "execute_result"
    }
   ],
   "source": [
    "ConvolutionBlock(8, 32, (3, 2))"
   ]
  },
  {
   "cell_type": "code",
   "execution_count": 5,
   "id": "576bf8ba",
   "metadata": {},
   "outputs": [],
   "source": [
    "class UpConvolutionBlock(nn.Module):\n",
    "    \n",
    "    def __init__(self, in_channels, out_channels, maxpool_kernel):\n",
    "        super().__init__()\n",
    "        \n",
    "        ### Convolution layer\n",
    "        \n",
    "        self.in_channels = in_channels\n",
    "        self.out_channels = out_channels\n",
    "        self.maxpool_kernel = maxpool_kernel\n",
    "        \n",
    "        self.block = nn.Sequential(\n",
    "            nn.ConvTranspose2d(in_channels=self.in_channels, \n",
    "                      out_channels=self.out_channels, \n",
    "                      kernel_size=(3,2), padding=1),\n",
    "            nn.BatchNorm2d(self.out_channels),\n",
    "            nn.ReLU(),\n",
    "            nn.Upsample()\n",
    "        )\n",
    "        \n",
    "    def forward(self, x):\n",
    "        return self.block(x)"
   ]
  },
  {
   "cell_type": "code",
   "execution_count": 6,
   "id": "5b46f1e2",
   "metadata": {},
   "outputs": [
    {
     "data": {
      "text/plain": [
       "UpConvolutionBlock(\n",
       "  (block): Sequential(\n",
       "    (0): ConvTranspose2d(8, 32, kernel_size=(3, 2), stride=(1, 1), padding=(1, 1))\n",
       "    (1): BatchNorm2d(32, eps=1e-05, momentum=0.1, affine=True, track_running_stats=True)\n",
       "    (2): ReLU()\n",
       "    (3): Upsample(size=None, mode=nearest)\n",
       "  )\n",
       ")"
      ]
     },
     "execution_count": 6,
     "metadata": {},
     "output_type": "execute_result"
    }
   ],
   "source": [
    "UpConvolutionBlock(8, 32, (2, 2))"
   ]
  },
  {
   "cell_type": "markdown",
   "id": "194f1340",
   "metadata": {},
   "source": [
    "## Encoder part"
   ]
  },
  {
   "cell_type": "code",
   "execution_count": 7,
   "id": "b52bebb8",
   "metadata": {},
   "outputs": [],
   "source": [
    "class Encoder(nn.Module):\n",
    "    \n",
    "    def __init__(self):\n",
    "        \n",
    "        super().__init__()\n",
    "        self.cbe1 = ConvolutionBlock(8, 32, (5, 2))\n",
    "        self.cbe2 = ConvolutionBlock(32, 128, (4, 2))\n",
    "        self.cbe3 = ConvolutionBlock(128, 256, (2, 2))\n",
    "        \n",
    "    def forward(self, x):\n",
    "        \n",
    "        x = self.cbe1(x)\n",
    "        x = self.cbe2(x)\n",
    "        x = self.cbe3(x)\n",
    "        return x"
   ]
  },
  {
   "cell_type": "code",
   "execution_count": 8,
   "id": "91b0485a",
   "metadata": {},
   "outputs": [
    {
     "data": {
      "text/plain": [
       "Encoder(\n",
       "  (cbe1): ConvolutionBlock(\n",
       "    (block): Sequential(\n",
       "      (0): Conv2d(8, 32, kernel_size=(3, 2), stride=(1, 1), padding=(1, 1))\n",
       "      (1): BatchNorm2d(32, eps=1e-05, momentum=0.1, affine=True, track_running_stats=True)\n",
       "      (2): ReLU()\n",
       "      (3): MaxPool2d(kernel_size=(5, 2), stride=(5, 2), padding=0, dilation=1, ceil_mode=False)\n",
       "    )\n",
       "  )\n",
       "  (cbe2): ConvolutionBlock(\n",
       "    (block): Sequential(\n",
       "      (0): Conv2d(32, 128, kernel_size=(3, 2), stride=(1, 1), padding=(1, 1))\n",
       "      (1): BatchNorm2d(128, eps=1e-05, momentum=0.1, affine=True, track_running_stats=True)\n",
       "      (2): ReLU()\n",
       "      (3): MaxPool2d(kernel_size=(4, 2), stride=(4, 2), padding=0, dilation=1, ceil_mode=False)\n",
       "    )\n",
       "  )\n",
       "  (cbe3): ConvolutionBlock(\n",
       "    (block): Sequential(\n",
       "      (0): Conv2d(128, 256, kernel_size=(3, 2), stride=(1, 1), padding=(1, 1))\n",
       "      (1): BatchNorm2d(256, eps=1e-05, momentum=0.1, affine=True, track_running_stats=True)\n",
       "      (2): ReLU()\n",
       "      (3): MaxPool2d(kernel_size=(2, 2), stride=(2, 2), padding=0, dilation=1, ceil_mode=False)\n",
       "    )\n",
       "  )\n",
       ")"
      ]
     },
     "execution_count": 8,
     "metadata": {},
     "output_type": "execute_result"
    }
   ],
   "source": [
    "Encoder()"
   ]
  },
  {
   "cell_type": "markdown",
   "id": "a36961dd",
   "metadata": {},
   "source": [
    "## Decoder part"
   ]
  },
  {
   "cell_type": "code",
   "execution_count": 16,
   "id": "f048c6fa",
   "metadata": {},
   "outputs": [],
   "source": [
    "# Add upsample to the decoder, not correct yet\n",
    "class Decoder(nn.Module):\n",
    "    \n",
    "    def __init__(self):\n",
    "        \n",
    "        super().__init__()\n",
    "        #self.in_channels = in_channels\n",
    "        self.cbd1 = UpConvolutionBlock(256, 256, (5, 4))\n",
    "        self.cbd2 = UpConvolutionBlock(256, 128, (4,2))\n",
    "        self.cbd3 = UpConvolutionBlock(128, 32, (2, 2))\n",
    "        \n",
    "    def forward(self, x):\n",
    "        \n",
    "        x = self.cbd1(x)\n",
    "        x = self.cbd2(x)\n",
    "        x = self.cbd3(x)\n",
    "        return x"
   ]
  },
  {
   "cell_type": "code",
   "execution_count": 17,
   "id": "afb586c4",
   "metadata": {},
   "outputs": [
    {
     "data": {
      "text/plain": [
       "Decoder(\n",
       "  (cbd1): UpConvolutionBlock(\n",
       "    (block): Sequential(\n",
       "      (0): ConvTranspose2d(256, 256, kernel_size=(3, 2), stride=(1, 1), padding=(1, 1))\n",
       "      (1): BatchNorm2d(256, eps=1e-05, momentum=0.1, affine=True, track_running_stats=True)\n",
       "      (2): ReLU()\n",
       "      (3): Upsample(size=None, mode=nearest)\n",
       "    )\n",
       "  )\n",
       "  (cbd2): UpConvolutionBlock(\n",
       "    (block): Sequential(\n",
       "      (0): ConvTranspose2d(256, 128, kernel_size=(3, 2), stride=(1, 1), padding=(1, 1))\n",
       "      (1): BatchNorm2d(128, eps=1e-05, momentum=0.1, affine=True, track_running_stats=True)\n",
       "      (2): ReLU()\n",
       "      (3): Upsample(size=None, mode=nearest)\n",
       "    )\n",
       "  )\n",
       "  (cbd3): UpConvolutionBlock(\n",
       "    (block): Sequential(\n",
       "      (0): ConvTranspose2d(128, 32, kernel_size=(3, 2), stride=(1, 1), padding=(1, 1))\n",
       "      (1): BatchNorm2d(32, eps=1e-05, momentum=0.1, affine=True, track_running_stats=True)\n",
       "      (2): ReLU()\n",
       "      (3): Upsample(size=None, mode=nearest)\n",
       "    )\n",
       "  )\n",
       ")"
      ]
     },
     "execution_count": 17,
     "metadata": {},
     "output_type": "execute_result"
    }
   ],
   "source": [
    "Decoder()"
   ]
  },
  {
   "cell_type": "markdown",
   "id": "fbbf9773",
   "metadata": {},
   "source": [
    "# Residual block\n",
    "\n",
    "source: https://blog.paperspace.com/writing-resnet-from-scratch-in-pytorch/"
   ]
  },
  {
   "cell_type": "code",
   "execution_count": null,
   "id": "3ce228d3",
   "metadata": {},
   "outputs": [],
   "source": [
    "class ResidualBlock(nn.Module):\n",
    "    def __init__(self, in_channels, out_channels, stride = 1, downsample = None):\n",
    "        super(ResidualBlock, self).__init__()\n",
    "        \n",
    "        self.conv1 = nn.Sequential(\n",
    "                        nn.Conv2d(in_channels, out_channels, kernel_size = 3, stride = stride, padding = 1),\n",
    "                        nn.BatchNorm2d(out_channels),\n",
    "                        nn.ReLU())\n",
    "        \n",
    "        self.conv2 = nn.Sequential(\n",
    "                        nn.Conv2d(out_channels, out_channels, kernel_size = 3, stride = 1, padding = 1),\n",
    "                        nn.BatchNorm2d(out_channels),\n",
    "                        nn.ReLU())\n",
    "        \n",
    "        self.conv3 = nn.Sequential(\n",
    "                        nn.Conv2d(out_channels, out_channels, kernel_size = 3, stride = 1, padding = 1),\n",
    "                        nn.BatchNorm2d(out_channels),\n",
    "                        nn.ReLU())\n",
    "        self.downsample = downsample\n",
    "        self.relu = nn.ReLU()\n",
    "        self.out_channels = out_channels\n",
    "        \n",
    "    def forward(self, x):\n",
    "        residual = x\n",
    "        out = self.conv1(x)\n",
    "        out = self.conv2(out)\n",
    "        out = self.conv3(out)\n",
    "        if self.downsample:\n",
    "            residual = self.downsample(x)\n",
    "        out += residual\n",
    "        out = self.relu(out)\n",
    "        return out"
   ]
  },
  {
   "cell_type": "code",
   "execution_count": null,
   "id": "ebfd588e",
   "metadata": {},
   "outputs": [],
   "source": [
    "class ResNet(nn.Module):\n",
    "    def __init__(self, block, layers, num_classes = 10):\n",
    "        super(ResNet, self).__init__()\n",
    "        self.inplanes = 64\n",
    "        self.conv1 = nn.Sequential(\n",
    "                        nn.Conv2d(3, 64, kernel_size = 7, stride = 2, padding = 3),\n",
    "                        nn.BatchNorm2d(64),\n",
    "                        nn.ReLU())\n",
    "        self.maxpool = nn.MaxPool2d(kernel_size = 3, stride = 2, padding = 1)\n",
    "        self.layer0 = self._make_layer(block, 64, layers[0], stride = 1)\n",
    "        self.layer1 = self._make_layer(block, 128, layers[1], stride = 2)\n",
    "        self.layer2 = self._make_layer(block, 256, layers[2], stride = 2)\n",
    "        self.layer3 = self._make_layer(block, 512, layers[3], stride = 2)\n",
    "        self.avgpool = nn.AvgPool2d(7, stride=1)\n",
    "        self.fc = nn.Linear(512, num_classes)\n",
    "        \n",
    "    def _make_layer(self, block, planes, blocks, stride=1):\n",
    "        downsample = None\n",
    "        if stride != 1 or self.inplanes != planes:\n",
    "            \n",
    "            downsample = nn.Sequential(\n",
    "                nn.Conv2d(self.inplanes, planes, kernel_size=1, stride=stride),\n",
    "                nn.BatchNorm2d(planes),\n",
    "            )\n",
    "        layers = []\n",
    "        layers.append(block(self.inplanes, planes, stride, downsample))\n",
    "        self.inplanes = planes\n",
    "        for i in range(1, blocks):\n",
    "            layers.append(block(self.inplanes, planes))\n",
    "\n",
    "        return nn.Sequential(*layers)\n",
    "    \n",
    "    \n",
    "    def forward(self, x):\n",
    "        x = self.conv1(x)\n",
    "        x = self.maxpool(x)\n",
    "        x = self.layer0(x)\n",
    "        x = self.layer1(x)\n",
    "        x = self.layer2(x)\n",
    "        x = self.layer3(x)\n",
    "\n",
    "        x = self.avgpool(x)\n",
    "        x = x.view(x.size(0), -1)\n",
    "        x = self.fc(x)\n",
    "\n",
    "        return x"
   ]
  }
 ],
 "metadata": {
  "kernelspec": {
   "display_name": "Python 3 (ipykernel)",
   "language": "python",
   "name": "python3"
  },
  "language_info": {
   "codemirror_mode": {
    "name": "ipython",
    "version": 3
   },
   "file_extension": ".py",
   "mimetype": "text/x-python",
   "name": "python",
   "nbconvert_exporter": "python",
   "pygments_lexer": "ipython3",
   "version": "3.10.6"
  }
 },
 "nbformat": 4,
 "nbformat_minor": 5
}
