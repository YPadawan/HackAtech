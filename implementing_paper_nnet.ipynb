{
 "cells": [
  {
   "cell_type": "code",
   "execution_count": 1,
   "id": "f0ef026e",
   "metadata": {},
   "outputs": [],
   "source": [
    "import torch\n",
    "import helper\n",
    "import numpy as np\n",
    "import torch.nn as nn\n",
    "import torch.nn.functional as F\n",
    "import matplotlib.pyplot as plt\n",
    "from torchvision import datasets, transforms"
   ]
  },
  {
   "cell_type": "code",
   "execution_count": 2,
   "id": "095d1e81",
   "metadata": {},
   "outputs": [],
   "source": [
    "# !pip install helper"
   ]
  },
  {
   "cell_type": "markdown",
   "id": "529535ae",
   "metadata": {},
   "source": [
    "# Implementing th neural network of the paper pieces by pieces"
   ]
  },
  {
   "cell_type": "markdown",
   "id": "aeadbdfd",
   "metadata": {},
   "source": [
    "## Convolution block"
   ]
  },
  {
   "cell_type": "code",
   "execution_count": 5,
   "id": "031b32e7",
   "metadata": {},
   "outputs": [],
   "source": [
    "class ConvolutionBlock(nn.Module):\n",
    "    \n",
    "    def __init__(self, in_channels, out_channels, maxpool_kernel):\n",
    "        super().__init__()\n",
    "        \n",
    "        ### Convolution layer\n",
    "        \n",
    "        self.in_channels = in_channels\n",
    "        self.out_channels = out_channels\n",
    "        self.maxpool_kernel = maxpool_kernel\n",
    "        \n",
    "        self.block = nn.Sequential(\n",
    "            nn.Conv2d(in_channels=self.in_channels, \n",
    "                      out_channels=self.out_channels, \n",
    "                      kernel_size=(3,2), padding=1),\n",
    "            nn.BatchNorm2d(self.out_channels),\n",
    "            nn.ReLU(),\n",
    "            nn.MaxPool2d(self.maxpool_kernel)\n",
    "#             nn.Conv2d(in_channels=self.out_channels, \n",
    "#                       out_channels=self.out_channels, \n",
    "#                       kernel_size=3, stride=2, padding=1)\n",
    "        )\n",
    "        \n",
    "    def forward(self, x):\n",
    "        return self.block(x)"
   ]
  },
  {
   "cell_type": "code",
   "execution_count": 6,
   "id": "314330ec",
   "metadata": {},
   "outputs": [
    {
     "data": {
      "text/plain": [
       "ConvolutionBlock(\n",
       "  (block): Sequential(\n",
       "    (0): Conv2d(8, 32, kernel_size=(3, 2), stride=(1, 1), padding=(1, 1))\n",
       "    (1): BatchNorm2d(32, eps=1e-05, momentum=0.1, affine=True, track_running_stats=True)\n",
       "    (2): ReLU()\n",
       "    (3): MaxPool2d(kernel_size=(3, 2), stride=(3, 2), padding=0, dilation=1, ceil_mode=False)\n",
       "  )\n",
       ")"
      ]
     },
     "execution_count": 6,
     "metadata": {},
     "output_type": "execute_result"
    }
   ],
   "source": [
    "ConvolutionBlock(8, 32, (3, 2))"
   ]
  },
  {
   "cell_type": "code",
   "execution_count": 32,
   "id": "576bf8ba",
   "metadata": {},
   "outputs": [],
   "source": [
    "class UpConvolutionBlock(nn.Module):\n",
    "    \n",
    "    def __init__(self, in_channels, out_channels, maxpool_kernel):\n",
    "        super().__init__()\n",
    "        \n",
    "        ### Convolution layer\n",
    "        \n",
    "        self.in_channels = in_channels\n",
    "        self.out_channels = out_channels\n",
    "        self.maxpool_kernel = maxpool_kernel\n",
    "        \n",
    "        self.block = nn.Sequential(\n",
    "            nn.ConvTranspose2d(in_channels=self.in_channels, \n",
    "                      out_channels=self.out_channels, \n",
    "                      kernel_size=(3,2), padding=1),\n",
    "            nn.BatchNorm2d(self.out_channels),\n",
    "            nn.ReLU(),\n",
    "            nn.MaxPool2d(self.maxpool_kernel),\n",
    "            nn.Upsample()\n",
    "        )\n",
    "        \n",
    "    def forward(self, x):\n",
    "        return self.block(x)"
   ]
  },
  {
   "cell_type": "code",
   "execution_count": 33,
   "id": "5b46f1e2",
   "metadata": {},
   "outputs": [
    {
     "data": {
      "text/plain": [
       "UpConvolutionBlock(\n",
       "  (block): Sequential(\n",
       "    (0): ConvTranspose2d(8, 32, kernel_size=(3, 2), stride=(1, 1), padding=(1, 1))\n",
       "    (1): BatchNorm2d(32, eps=1e-05, momentum=0.1, affine=True, track_running_stats=True)\n",
       "    (2): ReLU()\n",
       "    (3): MaxPool2d(kernel_size=(2, 2), stride=(2, 2), padding=0, dilation=1, ceil_mode=False)\n",
       "    (4): Upsample(size=None, mode=nearest)\n",
       "  )\n",
       ")"
      ]
     },
     "execution_count": 33,
     "metadata": {},
     "output_type": "execute_result"
    }
   ],
   "source": [
    "UpConvolutionBlock(8, 32, (2, 2))"
   ]
  },
  {
   "cell_type": "markdown",
   "id": "194f1340",
   "metadata": {},
   "source": [
    "## Encoder part"
   ]
  },
  {
   "cell_type": "code",
   "execution_count": 17,
   "id": "b52bebb8",
   "metadata": {},
   "outputs": [],
   "source": [
    "class Encoder(nn.Module):\n",
    "    \n",
    "    def __init__(self):\n",
    "        \n",
    "        super().__init__()\n",
    "        self.cbe1 = ConvolutionBlock(8, 32, (5, 2))\n",
    "        self.cbe2 = ConvolutionBlock(32, 128, (4, 2))\n",
    "        self.cbe3 = ConvolutionBlock(128, 256, (2, 2))\n",
    "        \n",
    "    def forward(self, x):\n",
    "        \n",
    "        x = self.cbe1(x)\n",
    "        x = self.cbe2(x)\n",
    "        x = self.cbe3(x)\n",
    "        return x"
   ]
  },
  {
   "cell_type": "code",
   "execution_count": 23,
   "id": "91b0485a",
   "metadata": {},
   "outputs": [
    {
     "data": {
      "text/plain": [
       "Encoder(\n",
       "  (cbe1): ConvolutionBlock(\n",
       "    (block): Sequential(\n",
       "      (0): Conv2d(8, 32, kernel_size=(3, 2), stride=(1, 1), padding=(1, 1))\n",
       "      (1): BatchNorm2d(32, eps=1e-05, momentum=0.1, affine=True, track_running_stats=True)\n",
       "      (2): ReLU()\n",
       "      (3): MaxPool2d(kernel_size=(5, 2), stride=(5, 2), padding=0, dilation=1, ceil_mode=False)\n",
       "    )\n",
       "  )\n",
       "  (cbe2): ConvolutionBlock(\n",
       "    (block): Sequential(\n",
       "      (0): Conv2d(32, 128, kernel_size=(3, 2), stride=(1, 1), padding=(1, 1))\n",
       "      (1): BatchNorm2d(128, eps=1e-05, momentum=0.1, affine=True, track_running_stats=True)\n",
       "      (2): ReLU()\n",
       "      (3): MaxPool2d(kernel_size=(4, 2), stride=(4, 2), padding=0, dilation=1, ceil_mode=False)\n",
       "    )\n",
       "  )\n",
       "  (cbe3): ConvolutionBlock(\n",
       "    (block): Sequential(\n",
       "      (0): Conv2d(128, 256, kernel_size=(3, 2), stride=(1, 1), padding=(1, 1))\n",
       "      (1): BatchNorm2d(256, eps=1e-05, momentum=0.1, affine=True, track_running_stats=True)\n",
       "      (2): ReLU()\n",
       "      (3): MaxPool2d(kernel_size=(2, 2), stride=(2, 2), padding=0, dilation=1, ceil_mode=False)\n",
       "    )\n",
       "  )\n",
       ")"
      ]
     },
     "execution_count": 23,
     "metadata": {},
     "output_type": "execute_result"
    }
   ],
   "source": [
    "Encoder()"
   ]
  },
  {
   "cell_type": "markdown",
   "id": "a36961dd",
   "metadata": {},
   "source": [
    "## Decoder part"
   ]
  },
  {
   "cell_type": "code",
   "execution_count": 26,
   "id": "f048c6fa",
   "metadata": {},
   "outputs": [],
   "source": [
    "# Add upsample to the decoder\n",
    "class Decoder(nn.Module):\n",
    "    \n",
    "    def __init__(self, in_channels):\n",
    "        \n",
    "        super().__init__()\n",
    "        self.in_channels = in_channels\n",
    "        self.cbd1 = UpConvolutionBlock(self.in_channels, 256, (5, 4))\n",
    "        self.cbd2 = UpConvolutionBlock(256, 128, (4,2))\n",
    "        self.cbd3 = UpConvolutionBlock(128, 32, (2, 2))\n",
    "        \n",
    "    def forward(self, x):\n",
    "        \n",
    "        x = self.cbd1(x)\n",
    "        x = self.cbd2(x)\n",
    "        x = self.cbd3(x)\n",
    "        return x"
   ]
  },
  {
   "cell_type": "code",
   "execution_count": 27,
   "id": "afb586c4",
   "metadata": {},
   "outputs": [
    {
     "data": {
      "text/plain": [
       "Decoder(\n",
       "  (cbd1): ConvolutionBlock(\n",
       "    (block): Sequential(\n",
       "      (0): Conv2d(256, 256, kernel_size=(3, 2), stride=(1, 1), padding=(1, 1))\n",
       "      (1): BatchNorm2d(256, eps=1e-05, momentum=0.1, affine=True, track_running_stats=True)\n",
       "      (2): ReLU()\n",
       "      (3): MaxPool2d(kernel_size=(5, 4), stride=(5, 4), padding=0, dilation=1, ceil_mode=False)\n",
       "    )\n",
       "  )\n",
       "  (cbd2): ConvolutionBlock(\n",
       "    (block): Sequential(\n",
       "      (0): Conv2d(256, 128, kernel_size=(3, 2), stride=(1, 1), padding=(1, 1))\n",
       "      (1): BatchNorm2d(128, eps=1e-05, momentum=0.1, affine=True, track_running_stats=True)\n",
       "      (2): ReLU()\n",
       "      (3): MaxPool2d(kernel_size=(4, 2), stride=(4, 2), padding=0, dilation=1, ceil_mode=False)\n",
       "    )\n",
       "  )\n",
       "  (cbd3): ConvolutionBlock(\n",
       "    (block): Sequential(\n",
       "      (0): Conv2d(128, 32, kernel_size=(3, 2), stride=(1, 1), padding=(1, 1))\n",
       "      (1): BatchNorm2d(32, eps=1e-05, momentum=0.1, affine=True, track_running_stats=True)\n",
       "      (2): ReLU()\n",
       "      (3): MaxPool2d(kernel_size=(2, 2), stride=(2, 2), padding=0, dilation=1, ceil_mode=False)\n",
       "    )\n",
       "  )\n",
       ")"
      ]
     },
     "execution_count": 27,
     "metadata": {},
     "output_type": "execute_result"
    }
   ],
   "source": [
    "Decoder()"
   ]
  },
  {
   "cell_type": "code",
   "execution_count": null,
   "id": "ac34a956",
   "metadata": {},
   "outputs": [],
   "source": []
  }
 ],
 "metadata": {
  "kernelspec": {
   "display_name": "Python 3 (ipykernel)",
   "language": "python",
   "name": "python3"
  },
  "language_info": {
   "codemirror_mode": {
    "name": "ipython",
    "version": 3
   },
   "file_extension": ".py",
   "mimetype": "text/x-python",
   "name": "python",
   "nbconvert_exporter": "python",
   "pygments_lexer": "ipython3",
   "version": "3.10.6"
  }
 },
 "nbformat": 4,
 "nbformat_minor": 5
}
